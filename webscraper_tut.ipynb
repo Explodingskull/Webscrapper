{
  "nbformat": 4,
  "nbformat_minor": 0,
  "metadata": {
    "colab": {
      "name": "webscraper_tut.ipynb",
      "provenance": [],
      "collapsed_sections": [],
      "authorship_tag": "ABX9TyP8OM/0gmFDuGmVPV2F2b8J",
      "include_colab_link": true
    },
    "kernelspec": {
      "name": "python3",
      "display_name": "Python 3"
    },
    "language_info": {
      "name": "python"
    }
  },
  "cells": [
    {
      "cell_type": "markdown",
      "metadata": {
        "id": "view-in-github",
        "colab_type": "text"
      },
      "source": [
        "<a href=\"https://colab.research.google.com/github/Explodingskull/Webscrapper/blob/main/webscraper_tut.ipynb\" target=\"_parent\"><img src=\"https://colab.research.google.com/assets/colab-badge.svg\" alt=\"Open In Colab\"/></a>"
      ]
    },
    {
      "cell_type": "code",
      "execution_count": 10,
      "metadata": {
        "colab": {
          "base_uri": "https://localhost:8080/"
        },
        "id": "20vGTDDY5B3M",
        "outputId": "03bb541d-0a33-47fa-a3db-ddf0d0fc7670"
      },
      "outputs": [
        {
          "output_type": "stream",
          "name": "stdout",
          "text": [
            "this is with html tags : <title>Fun with python programming – A programming language for revolution</title>\n",
            "this is without html tags: Fun with python programming\n",
            "<a class=\"screen-reader-text skip-link\" href=\"#content\">Skip to content</a>\n"
          ]
        }
      ],
      "source": [
        "# import these two modules bs4 for selecting HTML tags easily\n",
        "from bs4 import BeautifulSoup\n",
        "# requests module is easy to operate some people use urllib but I prefer this one because it is easy to use.\n",
        "import requests\n",
        "\n",
        "# I put here my own blog url ,you can change it.\n",
        "url=\"https://getpython.wordpress.com/\"\n",
        "\n",
        "#Requests module use to data from given url\n",
        "source=requests.get(url)\n",
        "\n",
        "# BeautifulSoup is used for getting HTML structure from requests response.(craete your soup)\n",
        "soup=BeautifulSoup(source.text,'html')\n",
        "\n",
        "# Find function is used to find a single element if there are more than once it always returns the first element.\n",
        "title=soup.find('title') # place your html tagg in parentheses that you want to find from html.\n",
        "print(\"this is with html tags :\",title)\n",
        "\n",
        "qwery=soup.find('h1') # here i find first h1 tagg in my website using find operation.\n",
        "\n",
        "#use .text for extract only text without any html tags\n",
        "print(\"this is without html tags:\",qwery.text) \n",
        "\n",
        "\n",
        "links=soup.find('a') #i extarcted link using \"a\" tag\n",
        "print(links)"
      ]
    },
    {
      "cell_type": "markdown",
      "source": [
        "extarct data from innerhtml"
      ],
      "metadata": {
        "id": "J5_AsZ2F5n9K"
      }
    },
    {
      "cell_type": "code",
      "source": [
        ""
      ],
      "metadata": {
        "id": "gWJb9oIm5ts5"
      },
      "execution_count": 10,
      "outputs": []
    },
    {
      "cell_type": "code",
      "source": [
        "# similarly i got class details from a anchor tag\n",
        "print(links['class'])"
      ],
      "metadata": {
        "colab": {
          "base_uri": "https://localhost:8080/"
        },
        "id": "wY7Y5Fy-5wfL",
        "outputId": "e0b40e71-b08f-4170-cde4-4f7f718c2243"
      },
      "execution_count": 11,
      "outputs": [
        {
          "output_type": "stream",
          "name": "stdout",
          "text": [
            "['screen-reader-text', 'skip-link']\n"
          ]
        }
      ]
    },
    {
      "cell_type": "markdown",
      "source": [
        "findall operation in Bs4"
      ],
      "metadata": {
        "id": "k9TJbi8k51op"
      }
    },
    {
      "cell_type": "code",
      "source": [
        "# findall function is used to fetch all tags at a single time.\n",
        "many_link=soup.find_all('a') # here i extracted all the anchor tags of my website\n",
        "total_links=len(many_link) # len function is use to calculate length of your array\n",
        "print(\"total links in website :\",total_links)\n",
        "print()\n",
        "for i in many_link[:6]: # here i use slicing to fetch only first 6 links from rest of them.\n",
        "    print(i)\n",
        "\n",
        "second_link=many_link[1] #here i fetch second link which place on 1 index number in many_links.\n",
        "print(second_link)\n",
        "print()\n",
        "print(\"href is :\",second_link['href']) #only href link is extracted from ancor tag\n",
        "\n",
        "# select div tag from second link\n",
        "nested_div=second_link.find('div')\n",
        "# As you can see div element extarcted , it also have inner elements\n",
        "print(nested_div)\n",
        "print()\n",
        "#here i extracted class element from div but it give us in the form of list\n",
        "z=(nested_div['class'])\n",
        "print(z)\n",
        "print(type(z))\n",
        "print()\n",
        "#  \" \" .join () method use to convert list type  into string type\n",
        "print(\"class name of div is :\",\" \".join(nested_div['class'])) "
      ],
      "metadata": {
        "colab": {
          "base_uri": "https://localhost:8080/"
        },
        "id": "QIBYX0Px52hR",
        "outputId": "b034ba16-cff3-4684-f417-1d7ff4fcdfd8"
      },
      "execution_count": 12,
      "outputs": [
        {
          "output_type": "stream",
          "name": "stdout",
          "text": [
            "total links in website : 100\n",
            "\n",
            "<a class=\"screen-reader-text skip-link\" href=\"#content\">Skip to content</a>\n",
            "<a href=\"https://getpython.wordpress.com/\" rel=\"home\">\n",
            "<div class=\"cover\"></div>\n",
            "</a>\n",
            "<a class=\"screen-reader-text search-toggle\" href=\"#search-container\">Search</a>\n",
            "<a href=\"https://getpython.wordpress.com/\" rel=\"home\">Fun with python programming</a>\n",
            "<a aria-current=\"page\" href=\"/\">Home</a>\n",
            "<a href=\"https://getpython.wordpress.com/contact/\">Contact</a>\n",
            "<a href=\"https://getpython.wordpress.com/\" rel=\"home\">\n",
            "<div class=\"cover\"></div>\n",
            "</a>\n",
            "\n",
            "href is : https://getpython.wordpress.com/\n",
            "<div class=\"cover\"></div>\n",
            "\n",
            "['cover']\n",
            "<class 'list'>\n",
            "\n",
            "class name of div is : cover\n"
          ]
        }
      ]
    },
    {
      "cell_type": "markdown",
      "source": [
        "scrap data from wikipedia"
      ],
      "metadata": {
        "id": "YXNBmwyw6ApZ"
      }
    },
    {
      "cell_type": "code",
      "source": [
        "wiki=requests.get(\"https://en.wikipedia.org/wiki/World_War_II\")\n",
        "soup=BeautifulSoup(wiki.text,'html')\n",
        "print(soup.find('title'))\n"
      ],
      "metadata": {
        "colab": {
          "base_uri": "https://localhost:8080/"
        },
        "id": "Nh3mEY_G5_fp",
        "outputId": "6940f60c-abe5-408c-ef7c-057620bb4d2b"
      },
      "execution_count": 13,
      "outputs": [
        {
          "output_type": "stream",
          "name": "stdout",
          "text": [
            "<title>World War II - Wikipedia</title>\n"
          ]
        }
      ]
    },
    {
      "cell_type": "markdown",
      "source": [
        "find html tags with classes"
      ],
      "metadata": {
        "id": "vdFJzqYD6I2p"
      }
    },
    {
      "cell_type": "code",
      "source": [
        "ww2_contents=soup.find_all(\"div\",class_='toc')\n",
        "for i in ww2_contents:\n",
        "    print(i.text)\n",
        "overview=soup.find_all('table',class_='infobox vevent')\n",
        "for z in overview:\n",
        "    print(z.text)\n",
        "    "
      ],
      "metadata": {
        "colab": {
          "base_uri": "https://localhost:8080/"
        },
        "id": "FJnBuEN46M9o",
        "outputId": "5f855ffc-709f-409a-e771-35b3031ed24b"
      },
      "execution_count": 14,
      "outputs": [
        {
          "output_type": "stream",
          "name": "stdout",
          "text": [
            "Contents\n",
            "\n",
            "1 Start and end dates\n",
            "2 Background\n",
            "\n",
            "2.1 Europe\n",
            "2.2 Asia\n",
            "\n",
            "\n",
            "3 Pre-war events\n",
            "\n",
            "3.1 Italian invasion of Ethiopia (1935)\n",
            "3.2 Spanish Civil War (1936–1939)\n",
            "3.3 Japanese invasion of China (1937)\n",
            "3.4 Soviet–Japanese border conflicts\n",
            "3.5 European occupations and agreements\n",
            "\n",
            "\n",
            "4 Course of the war\n",
            "\n",
            "4.1 War breaks out in Europe (1939–40)\n",
            "4.2 Western Europe (1940–41)\n",
            "4.3 Mediterranean (1940–41)\n",
            "4.4 Axis attack on the Soviet Union (1941)\n",
            "4.5 War breaks out in the Pacific (1941)\n",
            "4.6 Axis advance stalls (1942–43)\n",
            "\n",
            "4.6.1 Pacific (1942–43)\n",
            "4.6.2 Eastern Front (1942–43)\n",
            "4.6.3 Western Europe/Atlantic and Mediterranean (1942–43)\n",
            "\n",
            "\n",
            "4.7 Allies gain momentum (1943–44)\n",
            "4.8 Allies close in (1944)\n",
            "4.9 Axis collapse, Allied victory (1944–45)\n",
            "\n",
            "\n",
            "5 Aftermath\n",
            "6 Impact\n",
            "\n",
            "6.1 Casualties and war crimes\n",
            "6.2 Genocide, concentration camps, and slave labour\n",
            "6.3 Occupation\n",
            "6.4 Home fronts and production\n",
            "6.5 Advances in technology and warfare\n",
            "\n",
            "\n",
            "7 See also\n",
            "8 Notes\n",
            "9 Citations\n",
            "10 References\n",
            "11 External links\n",
            "\n",
            "\n",
            "World War II.mw-parser-output .tmulti .thumbinner{display:flex;flex-direction:column}.mw-parser-output .tmulti .trow{display:flex;flex-direction:row;clear:left;flex-wrap:wrap;width:100%;box-sizing:border-box}.mw-parser-output .tmulti .tsingle{margin:1px;float:left}.mw-parser-output .tmulti .theader{clear:both;font-weight:bold;text-align:center;align-self:center;background-color:transparent;width:100%}.mw-parser-output .tmulti .thumbcaption{background-color:transparent}.mw-parser-output .tmulti .text-align-left{text-align:left}.mw-parser-output .tmulti .text-align-right{text-align:right}.mw-parser-output .tmulti .text-align-center{text-align:center}@media all and (max-width:720px){.mw-parser-output .tmulti .thumbinner{width:100%!important;box-sizing:border-box;max-width:none!important;align-items:center}.mw-parser-output .tmulti .trow{justify-content:center}.mw-parser-output .tmulti .tsingle{float:none!important;max-width:100%!important;box-sizing:border-box;text-align:center}.mw-parser-output .tmulti .tsingle .thumbcaption{text-align:left}.mw-parser-output .tmulti .trow>.thumbcaption{text-align:center}}Clockwise from top left: \n",
            "Chinese forces in the Battle of Changde\n",
            "Australian 25-pounder guns during the First Battle of El Alamein\n",
            "German Stuka dive bombers on the Eastern Front in December 1943\n",
            "US naval force in the Lingayen Gulf\n",
            "Wilhelm Keitel signing the German Instrument of Surrender\n",
            "Soviet troops in the Battle of Stalingrad\n",
            "Date1 September 1939 – 2 September 1945 (1939-09-01 – 1945-09-02)[a](6 years and 1 day)Location\n",
            "Europe\n",
            "Pacific\n",
            "Atlantic\n",
            "Indian Ocean\n",
            "South-East Asia\n",
            "China\n",
            "Japan\n",
            "Middle East\n",
            "Mediterranean\n",
            "North Africa\n",
            "Horn of Africa\n",
            "Central Africa\n",
            "Australia\n",
            "North and South America\n",
            "Result\n",
            "Allied victory\n",
            "Fall of Nazi Germany, Fascist Italy and Imperial Japan\n",
            "Allied military occupations of Germany, Japan, Austria and Korea\n",
            "Beginning of the Nuclear Age\n",
            "Dissolution of the League of Nations and creation of the United Nations\n",
            "Emergence of the United States and the Soviet Union as rival superpowers and beginning of the Cold War (See Aftermath of World War II)Participants\n",
            "Allies\n",
            "AxisCommanders and leaders\n",
            "Main Allied leaders:\n",
            " Joseph Stalin\n",
            " Franklin D. Roosevelt\n",
            " Winston Churchill\n",
            " Chiang Kai-shek\n",
            "\n",
            "Main Axis leaders:\n",
            " Adolf Hitler\n",
            " Hirohito\n",
            " Benito Mussolini\n",
            "Casualties and losses\n",
            "\n",
            "Military dead:\n",
            "Over 16,000,000\n",
            "Civilian dead:\n",
            "Over 45,000,000\n",
            "Total dead:\n",
            "Over 61,000,000\n",
            "(1937–1945)\n",
            "...further details\n",
            "\n",
            "\n",
            "Military dead:\n",
            "Over 8,000,000\n",
            "Civilian dead:\n",
            "Over 4,000,000\n",
            "Total dead:\n",
            "Over 12,000,000\n",
            "(1937–1945)\n",
            "...further details\n",
            "\n"
          ]
        }
      ]
    }
  ]
}